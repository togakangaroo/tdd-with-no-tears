{
 "cells": [
  {
   "cell_type": "markdown",
   "id": "45576d77-50cb-410c-8df7-204694b2fa06",
   "metadata": {
    "collapsed": false
   },
   "source": [
    "I want to do the exercise in typescript and it's been some six years. I'm going to use Deno just because its easy and I want to play with it more."
   ]
  },
  {
   "cell_type": "code",
   "execution_count": 1,
   "id": "247492e9-f17a-4075-9a5d-745efb0c32a6",
   "metadata": {
    "collapsed": false
   },
   "outputs": [
    {
     "name": "stdout",
     "output_type": "stream",
     "text": [
      "✅ \u001b[0m\u001b[32mProject initialized\u001b[0m\r\n",
      "\r\n",
      "\u001b[0m\u001b[38;5;245mRun these commands to get started\u001b[0m\r\n",
      "\r\n",
      "  \u001b[0m\u001b[38;5;245m# Run the program\u001b[0m\r\n",
      "  deno run main.ts\r\n",
      "\r\n",
      "  \u001b[0m\u001b[38;5;245m# Run the program and watch for file changes\u001b[0m\r\n",
      "  deno task dev\r\n",
      "\r\n",
      "  \u001b[0m\u001b[38;5;245m# Run the tests\u001b[0m\r\n",
      "  deno test\r\n"
     ]
    }
   ],
   "source": [
    "! deno init"
   ]
  },
  {
   "cell_type": "markdown",
   "id": "05f2217c-69d4-4be5-b8c5-b5d23da31224",
   "metadata": {
    "collapsed": false
   },
   "source": [
    "Curious to see what Deno Test is like.\n",
    "\n",
    "Looks like [it allows familiar mocha-style syntax](https://docs.deno.com/runtime/fundamentals/testing/#behavior-driven-development) and has [built in facilities for testing timers](https://jsr.io/@std/testing/doc/time). [Here are those full docs](https://jsr.io/@std/testing/doc/bdd#namespace_it_skip)"
   ]
  }
 ],
 "metadata": {
  "kernelspec": {
   "argv": [
    "python",
    "-m",
    "ipykernel_launcher",
    "-f",
    "{connection_file}"
   ],
   "display_name": "Python 3 (ipykernel)",
   "env": null,
   "interrupt_mode": "signal",
   "language": "python",
   "metadata": {
    "debugger": true
   },
   "name": "python3"
  },
  "name": "README.ipynb"
 },
 "nbformat": 4,
 "nbformat_minor": 5
}
